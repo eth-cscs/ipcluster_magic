{
 "cells": [
  {
   "cell_type": "code",
   "execution_count": null,
   "id": "1b59a34e-4a40-405b-8ab3-910c4d06c155",
   "metadata": {},
   "outputs": [],
   "source": [
    "import ipcmagic\n",
    "import ipyparallel as ipp"
   ]
  },
  {
   "cell_type": "code",
   "execution_count": null,
   "id": "05a12b25-914d-433d-8b37-160255898fb6",
   "metadata": {},
   "outputs": [],
   "source": [
    "%ipcluster --version"
   ]
  },
  {
   "cell_type": "code",
   "execution_count": null,
   "id": "45b8a754-f541-474f-9498-6b871b361d63",
   "metadata": {},
   "outputs": [],
   "source": [
    "%ipcluster start -n 2 --launcher local"
   ]
  },
  {
   "cell_type": "code",
   "execution_count": null,
   "id": "b364afd5-ae26-473c-8677-b74557d10cee",
   "metadata": {},
   "outputs": [],
   "source": [
    "%%px\n",
    "print('This line should be printed twice')"
   ]
  },
  {
   "cell_type": "code",
   "execution_count": null,
   "id": "a92564ba-c580-4e5e-88bb-c02c24fec446",
   "metadata": {},
   "outputs": [],
   "source": [
    "client = ipp.Client()"
   ]
  },
  {
   "cell_type": "code",
   "execution_count": null,
   "id": "c78f2295-af89-4147-b94f-640b3d952346",
   "metadata": {},
   "outputs": [],
   "source": [
    "assert client.ids == [0, 1]"
   ]
  },
  {
   "cell_type": "code",
   "execution_count": null,
   "id": "b8ae2446-15ca-4b04-a4e8-755699963dd8",
   "metadata": {},
   "outputs": [],
   "source": [
    "client.close()"
   ]
  },
  {
   "cell_type": "code",
   "execution_count": null,
   "id": "e7386279-2ede-41e2-bdbf-cd516126d6ba",
   "metadata": {},
   "outputs": [],
   "source": [
    "%ipcluster stop"
   ]
  }
 ],
 "metadata": {
  "kernelspec": {
   "display_name": "Python 3 (ipykernel)",
   "language": "python",
   "name": "python3"
  },
  "language_info": {
   "codemirror_mode": {
    "name": "ipython",
    "version": 3
   },
   "file_extension": ".py",
   "mimetype": "text/x-python",
   "name": "python",
   "nbconvert_exporter": "python",
   "pygments_lexer": "ipython3",
   "version": "3.9.6"
  }
 },
 "nbformat": 4,
 "nbformat_minor": 5
}
