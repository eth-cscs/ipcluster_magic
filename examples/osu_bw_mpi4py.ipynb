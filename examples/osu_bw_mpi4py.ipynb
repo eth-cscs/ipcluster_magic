{
 "cells": [
  {
   "cell_type": "markdown",
   "id": "86b84834-b048-4832-bd49-f49c29d4fdfb",
   "metadata": {
    "tags": []
   },
   "source": [
    "# OSU Bandwidth benchmark with MPI4Py\n",
    "\n",
    "In this example we use IPCMagic to run a test from the [OSU Bandwidth benchmark](http://mvapich.cse.ohio-state.edu/benchmarks/) with MPI4Py from a Jupyter notebook.\n",
    "We use the [osu_bw.py](https://github.com/mpi4py/mpi4py/blob/d0228f0397403ff73d8f41d90d97b411efda6128/demo/osu_bw.py) script from the MPI4Py repository."
   ]
  },
  {
   "cell_type": "code",
   "execution_count": null,
   "id": "b55135ce-b328-4d73-b498-d8369ead8380",
   "metadata": {},
   "outputs": [],
   "source": [
    "import ipcmagic"
   ]
  },
  {
   "cell_type": "code",
   "execution_count": null,
   "id": "5ea681e9-f8df-4af9-9a09-3210b57e1af8",
   "metadata": {},
   "outputs": [],
   "source": [
    "# Fetch the sources\n",
    "! wget https://raw.githubusercontent.com/mpi4py/mpi4py/d0228f0397403ff73d8f41d90d97b411efda6128/demo/osu_bw.py"
   ]
  },
  {
   "cell_type": "code",
   "execution_count": null,
   "id": "79928bb7-8091-458f-b438-b66e1af23a8b",
   "metadata": {},
   "outputs": [],
   "source": [
    "%ipcluster --version"
   ]
  },
  {
   "cell_type": "code",
   "execution_count": null,
   "id": "a7d237d6-f385-49c6-9bad-323ba3c2d7a6",
   "metadata": {},
   "outputs": [],
   "source": [
    "%ipcluster start -n 2 --launcher mpirun"
   ]
  },
  {
   "cell_type": "code",
   "execution_count": null,
   "id": "cbaea7a2-4171-438d-8ad9-3a00411fd007",
   "metadata": {},
   "outputs": [],
   "source": [
    "# IPyParallel shows a progress bar if cells that take some time executing.\n",
    "# That can be disabled with by passing `--progress-after -1` to `%%px`.\n",
    "%pxconfig --progress-after -1"
   ]
  },
  {
   "cell_type": "code",
   "execution_count": null,
   "id": "12b975be-ceed-412d-9117-b3d8b7904549",
   "metadata": {},
   "outputs": [],
   "source": [
    "%%px\n",
    "import socket\n",
    "\n",
    "socket.gethostname()"
   ]
  },
  {
   "cell_type": "code",
   "execution_count": null,
   "id": "d81d6c89-d339-45ac-aff7-88a11558ce15",
   "metadata": {},
   "outputs": [],
   "source": [
    "%%px\n",
    "from osu_bw import osu_bw"
   ]
  },
  {
   "cell_type": "code",
   "execution_count": null,
   "id": "8ebf8f80-37b1-4d74-a911-33c1a32a461d",
   "metadata": {},
   "outputs": [],
   "source": [
    "%%px\n",
    "osu_bw()"
   ]
  },
  {
   "cell_type": "code",
   "execution_count": null,
   "id": "1cb656f2-2367-405a-9173-d79fe53281a0",
   "metadata": {},
   "outputs": [],
   "source": [
    "%ipcluster stop"
   ]
  }
 ],
 "metadata": {
  "kernelspec": {
   "display_name": "tf-multigpu",
   "language": "python",
   "name": "tf-multigpu"
  },
  "language_info": {
   "codemirror_mode": {
    "name": "ipython",
    "version": 3
   },
   "file_extension": ".py",
   "mimetype": "text/x-python",
   "name": "python",
   "nbconvert_exporter": "python",
   "pygments_lexer": "ipython3",
   "version": "3.7.4"
  }
 },
 "nbformat": 4,
 "nbformat_minor": 5
}
