{
 "cells": [
  {
   "cell_type": "markdown",
   "id": "9996b927-a31e-43ee-984b-a38faad8049d",
   "metadata": {},
   "source": [
    "# Running a `dask.distribute` example with multiple nodes\n",
    "\n",
    "Here we pass the `--dask` option to `%ipcluster start` to create a multi-node dask cluster.\n",
    "Then, using `dask.array` we compute the sum of some of the elements of a 1.82TB-large array of random numbers (`N = 500_000`)."
   ]
  },
  {
   "cell_type": "code",
   "execution_count": null,
   "id": "ddf8389b-d465-4618-a4ea-802458a31b47",
   "metadata": {},
   "outputs": [],
   "source": [
    "import ipcmagic\n",
    "import dask.array as da"
   ]
  },
  {
   "cell_type": "code",
   "execution_count": null,
   "id": "53fa590c-dcc6-4172-8442-17c40a2fa336",
   "metadata": {},
   "outputs": [],
   "source": [
    "%ipcluster --version"
   ]
  },
  {
   "cell_type": "code",
   "execution_count": null,
   "id": "c70d37d1-d185-4df3-861d-155da7da83d0",
   "metadata": {},
   "outputs": [],
   "source": [
    "%ipcluster start -n 2 --launcher mpirun --dask"
   ]
  },
  {
   "cell_type": "code",
   "execution_count": null,
   "id": "74928afd-0c23-4b90-b64d-c23121ac03b0",
   "metadata": {},
   "outputs": [],
   "source": [
    "N = 5_000\n",
    "x = da.random.random((N, N), chunks=(N / 50, 1000))\n",
    "x"
   ]
  },
  {
   "cell_type": "code",
   "execution_count": null,
   "id": "5a9b2134-213f-4a27-ad3b-98a387df5c08",
   "metadata": {},
   "outputs": [],
   "source": [
    "%%time\n",
    "result = x[::2, ::2].sum().compute()"
   ]
  },
  {
   "cell_type": "code",
   "execution_count": null,
   "id": "1b933a0e-2198-451d-b536-af533be742af",
   "metadata": {},
   "outputs": [],
   "source": [
    "print(result)"
   ]
  },
  {
   "cell_type": "code",
   "execution_count": null,
   "id": "19abd8f2-b0c4-4cee-85ae-4ce409c76f30",
   "metadata": {},
   "outputs": [],
   "source": [
    "%%px\n",
    "import socket           # the %%px operations on the ipcluster are still available\n",
    "                        # even when the dask cluster is active\n",
    "socket.gethostname()"
   ]
  },
  {
   "cell_type": "code",
   "execution_count": null,
   "id": "becfd05d-c365-449e-874b-c5cde58d6de8",
   "metadata": {},
   "outputs": [],
   "source": [
    "%ipcluster stop"
   ]
  },
  {
   "cell_type": "markdown",
   "id": "bcbfe363-72e3-405d-8c99-8bd43e888fb8",
   "metadata": {},
   "source": [
    "### Times obtained with `N = 500_000`\n",
    "\n",
    " * 4 nodes / 2 workers per node\n",
    "```bash\n",
    "# CPU times: user 8.24 s, sys: 447 ms, total: 8.68 s\n",
    "# Wall time: 1min 15s\n",
    "```\n",
    "\n",
    "\n",
    " * 2 nodes / 2 workers per node\n",
    "```bash\n",
    "# CPU times: user 8.64 s, sys: 447 ms, total: 9.09 s\n",
    "# Wall time: 2min 14s\n",
    "```\n",
    "\n",
    "\n",
    " * 2 nodes / 1 worker per node\n",
    "```bash\n",
    "# CPU times: user 8.49 s, sys: 203 ms, total: 8.69 s\n",
    "# Wall time: 3min 2s\n",
    "```\n",
    "\n",
    "\n",
    " * 1 node / no dask cluster\n",
    "```bash\n",
    "# CPU times: user 1h 2min 56s, sys: 16min 18s, total: 1h 19min 15s\n",
    "# Wall time: 4min 33s\n",
    "```"
   ]
  }
 ],
 "metadata": {
  "kernelspec": {
   "display_name": "dask-ipcmagic",
   "language": "python",
   "name": "dask-ipcmagic"
  },
  "language_info": {
   "codemirror_mode": {
    "name": "ipython",
    "version": 3
   },
   "file_extension": ".py",
   "mimetype": "text/x-python",
   "name": "python",
   "nbconvert_exporter": "python",
   "pygments_lexer": "ipython3",
   "version": "3.9.4"
  }
 },
 "nbformat": 4,
 "nbformat_minor": 5
}
